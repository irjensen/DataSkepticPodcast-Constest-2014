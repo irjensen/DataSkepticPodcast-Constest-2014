{
 "cells": [
  {
   "cell_type": "markdown",
   "metadata": {},
   "source": [
    "# A Solution to the [October 2014 Data Skeptic Podcast Contest](http://dataskeptic.com/blog/episodes/2014/contest)\n",
    "\n",
    "On the Oct 7 2014 episode of Data Skeptic, Kyle announced a contest to predict the date on which the cumulative number of downloads of the Data Skeptic Podcast surpases 27,182. The only information given to make the prediciton are the following four data points:\n",
    "\n",
    "```\n",
    "##        dates dateNums downloads\n",
    "## 1 2014-06-21        0       130\n",
    "## 2 2014-07-31       40      2313\n",
    "## 3 2014-08-30       70      6146\n",
    "## 4 2014-10-04      105     13400\n",
    "```\n",
    "\n",
    "This notebook will predict the crossover date."
   ]
  },
  {
   "cell_type": "markdown",
   "metadata": {},
   "source": [
    "# Table of Contents\n",
    "1. [Visualizing the Data](#Visualizing the Data)\n",
    "2. [Model and Motivation](#Model and Motivation)\n",
    "3. [Fitting Our Model to the Data](#Fitting Our Model to the Data)\n",
    "4. [Making the prediciton](#Making the Prediciton)"
   ]
  },
  {
   "cell_type": "markdown",
   "metadata": {},
   "source": [
    "# Visualizing the Data <a id=\"Visualizing the Data\">"
   ]
  },
  {
   "cell_type": "code",
   "execution_count": 1,
   "metadata": {},
   "outputs": [
    {
     "data": {
      "image/png": "[encoded data removed]",
      "text/plain": [
       "<Figure size 432x288 with 1 Axes>"
      ]
     },
     "metadata": {
      "needs_background": "light"
     },
     "output_type": "display_data"
    }
   ],
   "source": [
    "import numpy as np # linear algebra\n",
    "import pandas as pd # data processing, CSV file I/O (e.g. pd.read_csv)\n",
    "        \n",
    "import matplotlib.pyplot as plt\n",
    "import scipy.optimize as opt\n",
    "\n",
    "df = pd.DataFrame([['2014-06-21', 0, 130],\n",
    "                   ['2014-07-31', 40, 2313],\n",
    "                   ['2014-08-30', 70, 6146],\n",
    "                   ['2014-10-04', 105, 13400]], columns = ['dates', 'dateNums', 'downloads'])\n",
    "\n",
    "plt.plot(df.dateNums, df.downloads)\n",
    "plt.scatter(df.dateNums, df.downloads, color='red')\n",
    "plt.show()"
   ]
  },
  {
   "cell_type": "markdown",
   "metadata": {},
   "source": [
    "The shape of the data seems to suggest exponential growth."
   ]
  },
  {
   "cell_type": "markdown",
   "metadata": {},
   "source": [
    "# Model and Motivation <a id=\"Model and Motivation\">\n",
    "There is very little provided data to extrapolate from, so it is going to be important that we choose a model that is motivated by prior knowledge of the system as a whole. Consider the following observations: There is a finite number (at least, in the timeframe of the contest) of people that regularly listen to podcasts and who may be interested in a podcast like Data Skeptic. Furthermore, the more regular listeners there are, the greater the exposure the pocast gets through word of mouth, shares, reviews, etc. It follows, Then, that the number of regular listeners will have a tendency to grow exponentially, but is limited by an upper bound or ***carrying capacity***.\n",
    "\n",
    "This description is consistent with the [Logistic Funciton](https://en.wikipedia.org/wiki/Logistic_function), so we'll write the number of regular listeners as a generalized logistic function:\n",
    "$$\\text{Listeners} = \\frac{A}{1 + e^{-B(x-C)}}$$\n",
    "\n",
    "We will make the assumption that the rate of podcast downloads is proportional to the number of listeners, so if $y$ is the function that describes the number of cumulative downloads over time, we can replace the number of listeners with $y$'s first derivative:\n",
    "\n",
    "$$y' = \\frac{A}{1 + e^{-B(x-C)}}$$\n",
    "\n",
    "This yields a differential equation that can be trivially solved by integrating both sides:\n",
    "\n",
    "$$y = A \\left(x + \\frac{\\log\\left(1 + e^{B (C - x)}\\right)}{B}\\right) + D$$\n",
    "\n",
    "This will be the function we use to fit to our data with parameters $A$, $B$, $C$ and $D$"
   ]
  },
  {
   "cell_type": "markdown",
   "metadata": {},
   "source": [
    "# Fitting Our Model to the Data <a id=\"Fitting Our Model to the Data\">\n",
    "First, define $y$ as a python function."
   ]
  },
  {
   "cell_type": "code",
   "execution_count": 2,
   "metadata": {},
   "outputs": [],
   "source": [
    "def func(x, A, B, C, D):\n",
    "    x = np.float128(x) # perform calulation in 128bit to prevent overflow\n",
    "    return np.float64(A * (x + np.log(1+np.exp(B*(C-x)))/B) + D)"
   ]
  },
  {
   "cell_type": "markdown",
   "metadata": {},
   "source": [
    "## Initial paramters\n",
    "We need a good starting point for the optimizer to fit the model properly. To acheive this, we will adapt the code found [here](https://bitbucket.org/zunzuncode/ramanspectroscopyfit/src/master/RamanSpectroscopyFit.py) which uses the differential evolution module from SciPy to find a good set of initial parameters"
   ]
  },
  {
   "cell_type": "code",
   "execution_count": 3,
   "metadata": {},
   "outputs": [
    {
     "name": "stdout",
     "output_type": "stream",
     "text": [
      "Initial Parameters:\n",
      "A :  100.0\n",
      "B :  4.964924986914076\n",
      "C :  0.0\n",
      "D :  118.60511085329257\n"
     ]
    }
   ],
   "source": [
    "import warnings\n",
    "\n",
    "from scipy.optimize import differential_evolution\n",
    "\n",
    "xData = df.dateNums\n",
    "yData = df.downloads\n",
    "    \n",
    "def sumOfSquaredError(parameterTuple):\n",
    "    warnings.filterwarnings(\"ignore\") # do not print warnings by genetic algorithm\n",
    "    return np.sum((yData - func(xData, *parameterTuple)) ** 2)\n",
    "\n",
    "def generate_Initial_Parameters():    \n",
    "    parameterBounds = []\n",
    "    \n",
    "    # parameter bounds are selected with trial-and-error\n",
    "    parameterBounds.append([0, 100]) # parameter bounds for A\n",
    "    parameterBounds.append([0, 10]) # parameter bounds for B\n",
    "    parameterBounds.append([0, 10]) # parameter bounds for C\n",
    "    parameterBounds.append([-100, 10000]) # parameter bounds for D\n",
    "\n",
    "    # \"seed\" the numpy random number generator for repeatable results\n",
    "    result = differential_evolution(sumOfSquaredError, parameterBounds, seed=3, maxiter=10000)\n",
    "    return result.x\n",
    "\n",
    "# generate initial parameter values\n",
    "initialParameters = generate_Initial_Parameters()\n",
    "\n",
    "# print initial parameter values\n",
    "print(\"Initial Parameters:\")\n",
    "for name, param in zip(['A','B','C','D'], initialParameters):\n",
    "    print(name, \": \", param)"
   ]
  },
  {
   "cell_type": "markdown",
   "metadata": {},
   "source": [
    "## Performing the fit\n",
    "We use SciPy's curve_fit to apply the method of least-squares."
   ]
  },
  {
   "cell_type": "code",
   "execution_count": 4,
   "metadata": {},
   "outputs": [
    {
     "name": "stdout",
     "output_type": "stream",
     "text": [
      "Fitted Parameters\n",
      "A :  292.67680820508997\n",
      "B :  0.03616453117123982\n",
      "C :  62.227760202803694\n",
      "D :  -18893.248576270173\n"
     ]
    }
   ],
   "source": [
    "from scipy.optimize import curve_fit\n",
    "# curve fit the test data\n",
    "fittedParameters, pcov = curve_fit(func, xData, yData, initialParameters)\n",
    "\n",
    "print(\"Fitted Parameters\")\n",
    "for name, param in zip(['A','B','C','D'], fittedParameters):\n",
    "    print(name, \": \", param)"
   ]
  },
  {
   "cell_type": "code",
   "execution_count": 5,
   "metadata": {},
   "outputs": [
    {
     "data": {
      "image/png": "[encoded data removed]",
      "text/plain": [
       "<Figure size 432x288 with 1 Axes>"
      ]
     },
     "metadata": {
      "needs_background": "light"
     },
     "output_type": "display_data"
    }
   ],
   "source": [
    "df.plot.scatter(1, 2, color='red')\n",
    "plt.plot(range(-50, 150), func(range(-50,150), *fittedParameters))\n",
    "plt.show()"
   ]
  },
  {
   "cell_type": "markdown",
   "metadata": {},
   "source": [
    "The fit looks good!"
   ]
  },
  {
   "cell_type": "markdown",
   "metadata": {},
   "source": [
    "# Making the Prediciton  <a id=\"Making the Prediciton\">\n",
    "Now that we have a working model, we can predict on what day the number of downloads will pass 27,182"
   ]
  },
  {
   "cell_type": "code",
   "execution_count": 6,
   "metadata": {},
   "outputs": [
    {
     "name": "stdout",
     "output_type": "stream",
     "text": [
      "The model predicts the number will be reached 156.52849309844194 days after 2014-06-21\n"
     ]
    },
    {
     "data": {
      "image/png": "[encoded data removed]",
      "text/plain": [
       "<Figure size 432x288 with 1 Axes>"
      ]
     },
     "metadata": {
      "needs_background": "light"
     },
     "output_type": "display_data"
    }
   ],
   "source": [
    "# find intersection\n",
    "intersection = opt.fsolve(lambda x : func(x, *fittedParameters) - 27182, 0)\n",
    "print(\"The model predicts the number will be reached\", float(intersection), \"days after 2014-06-21\")\n",
    "\n",
    "plt.plot(range(200), func(range(200), *fittedParameters), label='model')\n",
    "plt.plot(range(200), [27182]*200, label='27182 downloads')\n",
    "plt.scatter([intersection], func(intersection, *fittedParameters), color='red')\n",
    "plt.legend()\n",
    "plt.show()"
   ]
  },
  {
   "cell_type": "markdown",
   "metadata": {},
   "source": [
    "To translate that to a date we'll use Python's `datetime` module"
   ]
  },
  {
   "cell_type": "code",
   "execution_count": 7,
   "metadata": {},
   "outputs": [
    {
     "name": "stdout",
     "output_type": "stream",
     "text": [
      "The crossover will occur at 2014-11-24 12:41:01.803705\n"
     ]
    }
   ],
   "source": [
    "import datetime\n",
    "start_date = datetime.datetime.strptime(\"2014-06-21\", \"%Y-%m-%d\")\n",
    "end_date = start_date + datetime.timedelta(days=float(intersection))\n",
    "\n",
    "print(\"The crossover will occur at\", end_date)"
   ]
  },
  {
   "cell_type": "markdown",
   "metadata": {},
   "source": [
    "How close was this prediciton? @DataSkeptic on Twitter [revealed the solution](https://twitter.com/DataSkeptic/status/544527949651648512) to be Nov 25, 2014, making my prediction only 1 day off."
   ]
  }
 ],
 "metadata": {
  "kernelspec": {
   "display_name": "Python 3",
   "language": "python",
   "name": "python3"
  },
  "language_info": {
   "codemirror_mode": {
    "name": "ipython",
    "version": 3
   },
   "file_extension": ".py",
   "mimetype": "text/x-python",
   "name": "python",
   "nbconvert_exporter": "python",
   "pygments_lexer": "ipython3",
   "version": "3.6.6"
  }
 },
 "nbformat": 4,
 "nbformat_minor": 1
}
